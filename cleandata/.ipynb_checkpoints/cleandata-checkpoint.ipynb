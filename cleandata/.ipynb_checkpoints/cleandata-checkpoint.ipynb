{
 "cells": [
  {
   "cell_type": "code",
   "execution_count": 2,
   "metadata": {
    "azdata_cell_guid": "1b3a660a-03eb-4e9c-9e38-00a0e3b35d30"
   },
   "outputs": [
    {
     "name": "stdout",
     "output_type": "stream",
     "text": [
      "import completed\n"
     ]
    }
   ],
   "source": [
    "#import thư viện\n",
    "import pandas as pd\n",
    "import numpy as np\n",
    "import matplotlib as plt\n",
    "import matplotlib.pyplot as plt\n",
    "import seaborn as sns\n",
    "from datetime import datetime\n",
    "print(\"import completed\")"
   ]
  },
  {
   "cell_type": "code",
   "execution_count": 3,
   "metadata": {
    "azdata_cell_guid": "34e1561b-8325-49fd-9af0-51a11eb5ecfe",
    "tags": []
   },
   "outputs": [
    {
     "name": "stdout",
     "output_type": "stream",
     "text": [
      "         date ttt_group  clicks_A  clicks_B  clicks_C  cost_A  cost_B  cost_C  \\\n",
      "0  2019-01-06     short    117272     68608     27152  113299   61987   21848   \n",
      "1  2019-01-06    medium     96050     12415    137291   74761    7483  111740   \n",
      "2  2019-01-06      long      7060      9568    408676    3407    4796  327505   \n",
      "3  2019-01-13     short    109700     64097     25477  105743   57771   20462   \n",
      "4  2019-01-13    medium    128847     16787    172639  101018   10201  140393   \n",
      "\n",
      "   bookings_A  bookings_B  bookings_C  booking_rev_A  booking_rev_B  \\\n",
      "0        5664        2651        1311         864767         423745   \n",
      "1        3738         386        5343         565066          60799   \n",
      "2         170         184        9813          27480          27867   \n",
      "3        5277        2467        1225         794086         387316   \n",
      "4        5049         526        6766         795529          80124   \n",
      "\n",
      "   booking_rev_C  \n",
      "0         197976  \n",
      "1         812847  \n",
      "2        1506297  \n",
      "3         193915  \n",
      "4        1020371  \n"
     ]
    }
   ],
   "source": [
    "#import dataset\n",
    "df = pd.read_csv(r\"./datasets/marketplace_data_2019.csv\")\n",
    "print(df.head())"
   ]
  },
  {
   "cell_type": "code",
   "execution_count": 5,
   "metadata": {
    "azdata_cell_guid": "f5a4b8e0-9ec0-49f1-ad54-d9a5af74954d"
   },
   "outputs": [],
   "source": [
    "#Read file from drive link if needed\n",
    "# url = \"https://drive.google.com/file/d/1DqHfdYcEprFxmPXJBHV5HK27q5IoMxlA/view?usp=sharing\"\n",
    "# url='https://drive.google.com/uc?id=' + url.split('/')[-2]\n",
    "# df_test = pd.read_csv(url)\n",
    "# df_test.head()"
   ]
  },
  {
   "cell_type": "code",
   "execution_count": 4,
   "metadata": {
    "azdata_cell_guid": "801b677a-9fe3-4875-af6a-f0030e8da5a0"
   },
   "outputs": [
    {
     "name": "stdout",
     "output_type": "stream",
     "text": [
      "<class 'pandas.core.frame.DataFrame'>\n",
      "RangeIndex: 1095 entries, 0 to 1094\n",
      "Data columns (total 14 columns):\n",
      " #   Column         Non-Null Count  Dtype \n",
      "---  ------         --------------  ----- \n",
      " 0   date           1095 non-null   object\n",
      " 1   ttt_group      1095 non-null   object\n",
      " 2   clicks_A       1095 non-null   int64 \n",
      " 3   clicks_B       1095 non-null   int64 \n",
      " 4   clicks_C       1095 non-null   int64 \n",
      " 5   cost_A         1095 non-null   int64 \n",
      " 6   cost_B         1095 non-null   int64 \n",
      " 7   cost_C         1095 non-null   int64 \n",
      " 8   bookings_A     1095 non-null   int64 \n",
      " 9   bookings_B     1095 non-null   int64 \n",
      " 10  bookings_C     1095 non-null   int64 \n",
      " 11  booking_rev_A  1095 non-null   int64 \n",
      " 12  booking_rev_B  1095 non-null   int64 \n",
      " 13  booking_rev_C  1095 non-null   int64 \n",
      "dtypes: int64(12), object(2)\n",
      "memory usage: 119.9+ KB\n",
      "None\n"
     ]
    }
   ],
   "source": [
    "# Review data\n",
    "print(df.info())"
   ]
  },
  {
   "cell_type": "code",
   "execution_count": 5,
   "metadata": {
    "azdata_cell_guid": "87551906-8f1f-460d-9cbe-64cb699969d7"
   },
   "outputs": [
    {
     "name": "stdout",
     "output_type": "stream",
     "text": [
      "(1095, 14)\n",
      "           clicks_A      clicks_B       clicks_C        cost_A         cost_B  \\\n",
      "count  1.095000e+03  1.095000e+03    1095.000000  1.095000e+03    1095.000000   \n",
      "mean   2.904898e+05  1.337045e+05  220404.340639  2.686955e+05  118263.228311   \n",
      "std    3.398313e+05  2.095589e+05  132328.225244  3.300333e+05  191975.004493   \n",
      "min    3.240000e+02  2.533000e+03   14651.000000  1.270000e+02    1276.000000   \n",
      "25%    6.878500e+03  8.029500e+03  123992.000000  3.285500e+03    4270.000000   \n",
      "50%    1.876150e+05  1.919800e+04  191998.000000  1.542680e+05   11610.000000   \n",
      "75%    4.491345e+05  2.146910e+05  295214.000000  3.984460e+05  194146.500000   \n",
      "max    1.714072e+06  1.041133e+06  727874.000000  1.661516e+06  956674.000000   \n",
      "\n",
      "              cost_C    bookings_A    bookings_B    bookings_C  booking_rev_A  \\\n",
      "count    1095.000000   1095.000000   1095.000000   1095.000000   1.095000e+03   \n",
      "mean   177837.655708  13382.377169   5072.309589   7633.052055   2.092607e+06   \n",
      "std    106864.506556  16435.779118   8140.733786   4189.684237   2.565217e+06   \n",
      "min     11849.000000      6.000000     41.000000    705.000000   9.670000e+02   \n",
      "25%     99865.000000    163.500000    169.500000   4450.500000   2.546450e+04   \n",
      "50%    154798.000000   7697.000000    619.000000   6875.000000   1.187892e+06   \n",
      "75%    237919.000000  19849.000000   8330.500000  10001.000000   3.150882e+06   \n",
      "max    596599.000000  82702.000000  40205.000000  23564.000000   1.315033e+07   \n",
      "\n",
      "       booking_rev_B  booking_rev_C  \n",
      "count   1.095000e+03   1.095000e+03  \n",
      "mean    7.901320e+05   1.191080e+06  \n",
      "std     1.264995e+06   6.544745e+05  \n",
      "min     6.152000e+03   1.073490e+05  \n",
      "25%     2.630700e+04   6.915185e+05  \n",
      "50%     9.648000e+04   1.072385e+06  \n",
      "75%     1.306488e+06   1.565771e+06  \n",
      "max     6.117843e+06   3.669508e+06  \n"
     ]
    }
   ],
   "source": [
    "#check numerical data\n",
    "print(df.shape)\n",
    "print(df.describe())"
   ]
  },
  {
   "cell_type": "code",
   "execution_count": 6,
   "metadata": {
    "azdata_cell_guid": "e7e82349-5e16-46fb-8535-6efce1dccff4"
   },
   "outputs": [
    {
     "name": "stdout",
     "output_type": "stream",
     "text": [
      "date             0\n",
      "ttt_group        0\n",
      "clicks_A         0\n",
      "clicks_B         0\n",
      "clicks_C         0\n",
      "cost_A           0\n",
      "cost_B           0\n",
      "cost_C           0\n",
      "bookings_A       0\n",
      "bookings_B       0\n",
      "bookings_C       0\n",
      "booking_rev_A    0\n",
      "booking_rev_B    0\n",
      "booking_rev_C    0\n",
      "dtype: int64\n"
     ]
    }
   ],
   "source": [
    "#check for missing data\n",
    "print(df.isnull().sum())"
   ]
  },
  {
   "cell_type": "code",
   "execution_count": 15,
   "metadata": {
    "azdata_cell_guid": "6c392c87-daeb-4046-9589-ecf27cfa545f"
   },
   "outputs": [
    {
     "name": "stdout",
     "output_type": "stream",
     "text": [
      "           date ttt_group  clicks_A  clicks_B  clicks_C  cost_A  cost_B  \\\n",
      "312  2019-01-01     short    110658     62984     23897  107515   57033   \n",
      "313  2019-01-01    medium     61201      8115     81676   47501    4893   \n",
      "314  2019-01-01      long      4945      7970    301992    2378    4068   \n",
      "471  2019-01-02     short     99122     54777     21459   96726   49634   \n",
      "472  2019-01-02    medium     59130      8040     79556   45954    4869   \n",
      "\n",
      "     cost_C  bookings_A  bookings_B  bookings_C  booking_rev_A  booking_rev_B  \\\n",
      "312   19170        5359        2440        1157         815380         374662   \n",
      "313   65722        2373         252        3167         371986          39742   \n",
      "314  242810         118         153        7231          19093          23636   \n",
      "471   17295        4798        2121        1039         720475         328767   \n",
      "472   64165        2294         250        3086         360364          39281   \n",
      "\n",
      "     booking_rev_C  \n",
      "312         173965  \n",
      "313         512900  \n",
      "314        1190356  \n",
      "471         164653  \n",
      "472         474731  \n"
     ]
    }
   ],
   "source": [
    "#Sort by the values along \"date\"(ascending) and \"ttt_group\"(descending) columns\n",
    "df = df.sort_values(by = [\"date\",\"ttt_group\"], ascending = [True,False])\n",
    "print(df.head())"
   ]
  },
  {
   "cell_type": "code",
   "execution_count": 8,
   "metadata": {
    "azdata_cell_guid": "bdd41936-77be-4484-a9eb-108afc3938c7"
   },
   "outputs": [
    {
     "name": "stdout",
     "output_type": "stream",
     "text": [
      "['short' 'medium' 'long']\n"
     ]
    }
   ],
   "source": [
    "#check unique data in \"ttt_group\" column\n",
    "print(df[\"ttt_group\"].unique())"
   ]
  },
  {
   "cell_type": "code",
   "execution_count": 9,
   "metadata": {
    "azdata_cell_guid": "4b4fd3fa-6801-445d-86fe-6e75354f6808"
   },
   "outputs": [
    {
     "name": "stdout",
     "output_type": "stream",
     "text": [
      "3\n",
      "3\n",
      "2019-01-01    3\n",
      "2019-09-09    3\n",
      "2019-09-07    3\n",
      "2019-09-06    3\n",
      "2019-09-05    3\n",
      "             ..\n",
      "2019-05-01    3\n",
      "2019-04-30    3\n",
      "2019-04-29    3\n",
      "2019-04-28    3\n",
      "2019-12-31    3\n",
      "Name: date, Length: 365, dtype: int64\n"
     ]
    }
   ],
   "source": [
    "#Review \"date\" column\n",
    "print(df[\"date\"].value_counts().min())\n",
    "print(df[\"date\"].value_counts().max())\n",
    "print(df[\"date\"].value_counts())"
   ]
  },
  {
   "cell_type": "code",
   "execution_count": 10,
   "metadata": {
    "azdata_cell_guid": "c9163d6c-77b2-4649-a82b-c65c926b7e98"
   },
   "outputs": [
    {
     "name": "stdout",
     "output_type": "stream",
     "text": [
      "Empty DataFrame\n",
      "Columns: [date, ttt_group, clicks_A, clicks_B, clicks_C, cost_A, cost_B, cost_C, bookings_A, bookings_B, bookings_C, booking_rev_A, booking_rev_B, booking_rev_C]\n",
      "Index: []\n"
     ]
    }
   ],
   "source": [
    "#check for duplication\n",
    "dup = df.duplicated()\n",
    "duprow = df[dup]\n",
    "print(duprow)"
   ]
  },
  {
   "cell_type": "code",
   "execution_count": 14,
   "metadata": {
    "azdata_cell_guid": "8ec06c91-4207-41ef-a76b-cb4e69deca43"
   },
   "outputs": [
    {
     "name": "stdout",
     "output_type": "stream",
     "text": [
      "export finished\n"
     ]
    }
   ],
   "source": [
    "#export data\n",
    "df.to_csv('./datasets/marketplace_cleandata_2019.csv', index = False)\n",
    "print(\"export completed\")"
   ]
  }
 ],
 "metadata": {
  "kernelspec": {
   "display_name": "Python 3 (ipykernel)",
   "language": "python",
   "name": "python3"
  },
  "language_info": {
   "codemirror_mode": {
    "name": "ipython",
    "version": 3
   },
   "file_extension": ".py",
   "mimetype": "text/x-python",
   "name": "python",
   "nbconvert_exporter": "python",
   "pygments_lexer": "ipython3",
   "version": "3.7.11"
  }
 },
 "nbformat": 4,
 "nbformat_minor": 2
}
